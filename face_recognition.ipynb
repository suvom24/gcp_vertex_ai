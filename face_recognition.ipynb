{
 "cells": [
  {
   "cell_type": "code",
   "execution_count": 16,
   "id": "7cedd541-78de-4db6-8679-c78a93bba57d",
   "metadata": {
    "tags": []
   },
   "outputs": [],
   "source": [
    "from google.cloud import storage\n",
    "import json\n",
    "import pandas as pd\n",
    "\n",
    "bucket_name = \"ai101_directory\"\n",
    "\n"
   ]
  },
  {
   "cell_type": "markdown",
   "id": "6044e580-9101-41cb-b8ad-cbad5b978ba2",
   "metadata": {},
   "source": [
    "## Data Ingestion"
   ]
  },
  {
   "cell_type": "code",
   "execution_count": 2,
   "id": "b6149be5-98e6-49dd-8234-70f741243268",
   "metadata": {
    "tags": []
   },
   "outputs": [
    {
     "name": "stdout",
     "output_type": "stream",
     "text": [
      "{'Charlize Theron', 'Virat Kohli', 'Anushka Sharma', 'Hugh Jackman', 'Brad Pitt', 'Billie Eilish', 'Natalie Portman', 'Elizabeth Olsen', 'Marmik', 'Jessica Alba', 'Hrithik Roshan', 'Courtney Cox', 'Robert Downey Jr', 'Lisa Kudrow', 'Margot Robbie', 'Tom Cruise', 'Henry Cavill', 'Vijay Deverakonda', 'Kashyap', 'Alexandra Daddario', 'Akshay Kumar', 'Claire Holt', 'Zac Efron', 'Andy Samberg', 'Amitabh Bachchan', 'Dwayne Johnson', 'Camila Cabello', 'Alia Bhatt', 'Ellen Degeneres', 'Roger Federer', 'Priyanka Chopra'}\n"
     ]
    }
   ],
   "source": [
    "\n",
    "def list_directories(bucket_name, prefix):\n",
    "    \"\"\"Lists pseudo-directories within a GCS bucket.\n",
    "\n",
    "    Args:\n",
    "        bucket_name: The name of the GCS bucket.\n",
    "        prefix: An optional prefix used to filter objects (simulates subfolders).\n",
    "    \"\"\"\n",
    "\n",
    "    storage_client = storage.Client()\n",
    "    bucket = storage_client.bucket(bucket_name)\n",
    "\n",
    "    blobs = bucket.list_blobs(prefix=prefix)\n",
    "\n",
    "    directories=set()\n",
    "    for blob in blobs:\n",
    "        directories.add(blob.name.split(\"/\")[1])\n",
    "    \n",
    "    return directories\n",
    "\n",
    "bucket_name = 'ai101_directory'\n",
    "root_prefix = 'Faces/'  # Simulates starting in a subfolder\n",
    "\n",
    "directory_names = list_directories(bucket_name, root_prefix)\n",
    "print(directory_names)\n"
   ]
  },
  {
   "cell_type": "code",
   "execution_count": 3,
   "id": "073b0166-948d-4e47-94e2-3d696d879532",
   "metadata": {
    "tags": []
   },
   "outputs": [
    {
     "data": {
      "text/plain": [
       "['Charlize Theron',\n",
       " 'Virat Kohli',\n",
       " 'Anushka Sharma',\n",
       " 'Hugh Jackman',\n",
       " 'Brad Pitt',\n",
       " 'Billie Eilish',\n",
       " 'Natalie Portman',\n",
       " 'Elizabeth Olsen',\n",
       " 'Marmik',\n",
       " 'Jessica Alba',\n",
       " 'Hrithik Roshan',\n",
       " 'Courtney Cox',\n",
       " 'Robert Downey Jr',\n",
       " 'Lisa Kudrow',\n",
       " 'Margot Robbie',\n",
       " 'Tom Cruise',\n",
       " 'Henry Cavill',\n",
       " 'Vijay Deverakonda',\n",
       " 'Kashyap',\n",
       " 'Alexandra Daddario',\n",
       " 'Akshay Kumar',\n",
       " 'Claire Holt',\n",
       " 'Zac Efron',\n",
       " 'Andy Samberg',\n",
       " 'Amitabh Bachchan',\n",
       " 'Dwayne Johnson',\n",
       " 'Camila Cabello',\n",
       " 'Alia Bhatt',\n",
       " 'Ellen Degeneres',\n",
       " 'Roger Federer',\n",
       " 'Priyanka Chopra']"
      ]
     },
     "execution_count": 3,
     "metadata": {},
     "output_type": "execute_result"
    }
   ],
   "source": [
    "directory_names=list(directory_names)\n",
    "directory_names"
   ]
  },
  {
   "cell_type": "code",
   "execution_count": 24,
   "id": "196d0534-dee4-4001-9f73-7977f6a7fa4b",
   "metadata": {
    "tags": []
   },
   "outputs": [],
   "source": [
    "def create_file_paths(directories):\n",
    "    storage_client = storage.Client()\n",
    "    bucket = storage_client.bucket(bucket_name)\n",
    "    \n",
    "    file_path_list=[]\n",
    "    for directory_name in directories:\n",
    "        blobs = bucket.list_blobs(prefix=root_prefix+directory_name+\"/\")\n",
    "        for blob in blobs:\n",
    "            file_path = f\"gs://ai101_directory/{blob.name}\"\n",
    "            f#ile_path_list.append({\"imageGcsUri\":file_path, \"displayName\":directory_name})\n",
    "            file_path_list.append({\"image_path\":file_path, \"label\":directory_name})\n",
    "    return file_path_list"
   ]
  },
  {
   "cell_type": "code",
   "execution_count": 25,
   "id": "4be84db9-f8e6-45bc-8072-299a1c2bd6b2",
   "metadata": {
    "tags": []
   },
   "outputs": [],
   "source": [
    "file_path_list=create_file_paths(directory_names)"
   ]
  },
  {
   "cell_type": "code",
   "execution_count": 26,
   "id": "72620daf-9e0e-4261-89c3-4c7ea8cf96e8",
   "metadata": {
    "tags": []
   },
   "outputs": [
    {
     "data": {
      "text/plain": [
       "[{'image_path': 'gs://ai101_directory/Faces/Virat Kohli/Virat Kohli_0.jpg',\n",
       "  'label': 'Virat Kohli'}]"
      ]
     },
     "execution_count": 26,
     "metadata": {},
     "output_type": "execute_result"
    }
   ],
   "source": [
    "file_path_list[:1]"
   ]
  },
  {
   "cell_type": "code",
   "execution_count": 29,
   "id": "dcaeb6ed-7202-474f-8fc5-3d2bb6f72944",
   "metadata": {
    "tags": []
   },
   "outputs": [],
   "source": [
    "## create csv file for Dataset Import\n",
    "pd.DataFrame(data=file_path_list).to_csv(\"image_data.csv\", index=False)"
   ]
  },
  {
   "cell_type": "code",
   "execution_count": 30,
   "id": "0865fe25-bef4-42d8-b142-75a66c542af6",
   "metadata": {
    "tags": []
   },
   "outputs": [
    {
     "name": "stdout",
     "output_type": "stream",
     "text": [
      "File image_data.csv uploaded to image_data.csv.\n"
     ]
    }
   ],
   "source": [
    "from google.cloud import storage\n",
    "\n",
    "def upload_to_cloud_storage(bucket_name, source_file_name, destination_blob_name):\n",
    "    storage_client = storage.Client()\n",
    "    bucket = storage_client.bucket(bucket_name)\n",
    "    blob = bucket.blob(destination_blob_name)\n",
    "\n",
    "    blob.upload_from_filename(source_file_name)\n",
    "\n",
    "    print(f'File {source_file_name} uploaded to {destination_blob_name}.')\n",
    "\n",
    "source_file_name = \"image_data.csv\"   \n",
    "destination_blob_name = \"image_data.csv\"  \n",
    "\n",
    "upload_to_cloud_storage(bucket_name, source_file_name, destination_blob_name)\n"
   ]
  },
  {
   "cell_type": "markdown",
   "id": "2616309b-900f-46f5-8dd4-b847108c7f89",
   "metadata": {},
   "source": [
    "## inference"
   ]
  },
  {
   "cell_type": "code",
   "execution_count": 10,
   "id": "3905fcc3-7682-4394-86dc-a7cc0c67acff",
   "metadata": {
    "tags": []
   },
   "outputs": [],
   "source": [
    "# Copyright 2020 Google LLC\n",
    "#\n",
    "# Licensed under the Apache License, Version 2.0 (the \"License\");\n",
    "# you may not use this file except in compliance with the License.\n",
    "# You may obtain a copy of the License at\n",
    "#\n",
    "#     https://www.apache.org/licenses/LICENSE-2.0\n",
    "#\n",
    "# Unless required by applicable law or agreed to in writing, software\n",
    "# distributed under the License is distributed on an \"AS IS\" BASIS,\n",
    "# WITHOUT WARRANTIES OR CONDITIONS OF ANY KIND, either express or implied.\n",
    "# See the License for the specific language governing permissions and\n",
    "# limitations under the License.\n",
    "\n",
    "# [START aiplatform_predict_image_classification_sample]\n",
    "import base64\n",
    "\n",
    "from google.cloud import aiplatform\n",
    "from google.cloud.aiplatform.gapic.schema import predict\n",
    "\n",
    "\n",
    "def predict_image_classification_sample(\n",
    "    project: str,\n",
    "    endpoint_id: str,\n",
    "    filename: str,\n",
    "    location: str = \"us-central1\",\n",
    "    api_endpoint: str = \"us-central1-aiplatform.googleapis.com\",\n",
    "):\n",
    "    # The AI Platform services require regional API endpoints.\n",
    "    client_options = {\"api_endpoint\": api_endpoint}\n",
    "    # Initialize client that will be used to create and send requests.\n",
    "    # This client only needs to be created once, and can be reused for multiple requests.\n",
    "    client = aiplatform.gapic.PredictionServiceClient(client_options=client_options)\n",
    "    with open(filename, \"rb\") as f:\n",
    "        file_content = f.read()\n",
    "\n",
    "    # The format of each instance should conform to the deployed model's prediction input schema.\n",
    "    encoded_content = base64.b64encode(file_content).decode(\"utf-8\")\n",
    "    instance = predict.instance.ImageClassificationPredictionInstance(\n",
    "        content=encoded_content,\n",
    "    ).to_value()\n",
    "    instances = [instance]\n",
    "    # See gs://google-cloud-aiplatform/schema/predict/params/image_classification_1.0.0.yaml for the format of the parameters.\n",
    "    parameters = predict.params.ImageClassificationPredictionParams(\n",
    "        confidence_threshold=0.5,\n",
    "        max_predictions=5,\n",
    "    ).to_value()\n",
    "    endpoint = client.endpoint_path(\n",
    "        project=project, location=location, endpoint=endpoint_id\n",
    "    )\n",
    "    response = client.predict(\n",
    "        endpoint=endpoint, instances=instances, parameters=parameters\n",
    "    )\n",
    "    print(\"response\")\n",
    "    print(\" deployed_model_id:\", response.deployed_model_id)\n",
    "    # See gs://google-cloud-aiplatform/schema/predict/prediction/image_classification_1.0.0.yaml for the format of the predictions.\n",
    "    predictions = response.predictions\n",
    "    for prediction in predictions:\n",
    "        print(\" prediction:\", dict(prediction))\n",
    "\n",
    "\n",
    "# [END aiplatform_predict_image_classification_sample]"
   ]
  },
  {
   "cell_type": "code",
   "execution_count": 11,
   "id": "2e8a6588-1914-4ddb-835e-982fa6e3f463",
   "metadata": {
    "tags": []
   },
   "outputs": [
    {
     "name": "stdout",
     "output_type": "stream",
     "text": [
      "response\n",
      " deployed_model_id: 400835759998763008\n",
      " prediction: {'displayNames': ['Akshay Kumar'], 'confidences': [0.968981862], 'ids': ['476653958681591808']}\n"
     ]
    }
   ],
   "source": [
    "predict_image_classification_sample(\n",
    "    project=\"711757102271\",\n",
    "    endpoint_id=\"8219590488462721024\",\n",
    "    location=\"us-central1\",\n",
    "    filename=\"data/Akshay Kumar_37.jpg\"\n",
    ")"
   ]
  },
  {
   "cell_type": "code",
   "execution_count": null,
   "id": "ba6be5c6-278f-4bc2-afc1-10f5b8f66529",
   "metadata": {},
   "outputs": [],
   "source": []
  }
 ],
 "metadata": {
  "environment": {
   "kernel": "python3",
   "name": "common-cpu.m116",
   "type": "gcloud",
   "uri": "gcr.io/deeplearning-platform-release/base-cpu:m116"
  },
  "kernelspec": {
   "display_name": "Python 3",
   "language": "python",
   "name": "python3"
  },
  "language_info": {
   "codemirror_mode": {
    "name": "ipython",
    "version": 3
   },
   "file_extension": ".py",
   "mimetype": "text/x-python",
   "name": "python",
   "nbconvert_exporter": "python",
   "pygments_lexer": "ipython3",
   "version": "3.10.13"
  }
 },
 "nbformat": 4,
 "nbformat_minor": 5
}
